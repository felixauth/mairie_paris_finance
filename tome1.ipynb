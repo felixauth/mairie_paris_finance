{
 "cells": [
  {
   "cell_type": "markdown",
   "id": "8032669f-2e7a-4be9-a11b-9f0d8449ed2e",
   "metadata": {
    "jp-MarkdownHeadingCollapsed": true
   },
   "source": [
    "# Import packages"
   ]
  },
  {
   "cell_type": "code",
   "execution_count": 5,
   "id": "770a1c51-9477-41f7-96aa-2e50b581bd9c",
   "metadata": {},
   "outputs": [],
   "source": [
    "import os\n",
    "import pandas as pd\n",
    "import numpy as np\n",
    "import re\n",
    "import warnings\n",
    "import pdfplumber\n",
    "warnings.filterwarnings('ignore')\n",
    "pd.set_option('display.float_format', '{:.2f}'.format)"
   ]
  },
  {
   "cell_type": "markdown",
   "id": "1fabe595-4255-4fae-b7db-823933f61d00",
   "metadata": {
    "jp-MarkdownHeadingCollapsed": true
   },
   "source": [
    "# Utils"
   ]
  },
  {
   "cell_type": "code",
   "execution_count": 6,
   "id": "d5d8fab3-4f01-4093-9c98-370c2cb9f055",
   "metadata": {},
   "outputs": [],
   "source": [
    "# Fonction pour obtenir les informations des colonnes\n",
    "def column_info(tables):\n",
    "    pattern = r\"(?<!\\d)\\d{2}-\\d{1,5}\\b\"\n",
    "    for index, list_info in enumerate(tables):\n",
    "        matches_list = []\n",
    "        for element in list_info:\n",
    "            if element:\n",
    "                matches = re.findall(pattern, element)\n",
    "                if len(matches):\n",
    "                    matches_list.append(element)\n",
    "        if not len(matches_list):\n",
    "            return index\n",
    "\n",
    "# Fonction pour générer les noms de colonnes\n",
    "def column_names_generate(tables, index_col_table):\n",
    "    col_name_list = []\n",
    "    zip_list = [list(element) for element in zip(*tables[0:index_col_table])]\n",
    "    for index, col in enumerate(zip_list): # col 0 is\n",
    "        # Repeat the subcolumn names\n",
    "        if not col[0]:\n",
    "            for index_e, e in enumerate(col):\n",
    "                following_values = all(pd.Series(col[index_e:]).isna()) \n",
    "                if (not e) and (not following_values):\n",
    "                    zip_list[index][index_e] = zip_list[index-1][index_e]\n",
    "        cleaned_list = ['' if not x else x.replace(\"\\n\", \" \") for x in col]\n",
    "        col_name_list.append(\" \".join(cleaned_list))\n",
    "    col_name_list = [col_name.lstrip().rstrip() if col_name else col_name for col_name in col_name_list]\n",
    "    return col_name_list\n",
    "\n",
    "def correct_bold_text(df):\n",
    "    rows_to_correct = []\n",
    "    col_to_check = df.iloc[:, 2]  # contrôle arbitraire sur la première colonne de chiffres\n",
    "    for index, val in col_to_check.items():\n",
    "        if \",,,\" in val:\n",
    "            rows_to_correct.append(index)\n",
    "    if not len(rows_to_correct):\n",
    "        return df\n",
    "    for row in rows_to_correct:\n",
    "        df.iloc[row, 2:-1] = df.iloc[row, 2:-1].str.replace(\" \", \"\")\n",
    "        correct_text = []\n",
    "        for text in df.iloc[row, 2:-1]:\n",
    "            text_f = \"\"\n",
    "            for carac in range(0, len(text), 3):\n",
    "                text_f += text[carac]\n",
    "            correct_text.append(text_f)\n",
    "        df.iloc[row, 2:-1] = correct_text\n",
    "    return df\n",
    "    \n",
    "def flag_depense_recette(df, current_ope):\n",
    "    df_copy = df.copy()\n",
    "    depense_row = df_copy[df_copy.iloc[:,0]==\"DEPENSES\"]\n",
    "    recette_row = df_copy[df_copy.iloc[:,0]==\"RECETTES\"]\n",
    "    title_col = \"type_opération\"\n",
    "    depense_txt = \"Dépense\"\n",
    "    recette_txt = \"Recette\"\n",
    "    if len(depense_row) and not len(recette_row):\n",
    "        df_copy[title_col] = depense_txt\n",
    "        current_ope = depense_txt\n",
    "        df_copy.drop(index=depense_row.index[0], inplace=True)\n",
    "    elif len(depense_row) and len(recette_row):\n",
    "        df_copy[title_col] = np.where(\n",
    "            (df_copy.index > depense_row.index[0]) & (df_copy.index < recette_row.index[0]),\n",
    "            depense_txt,\n",
    "            recette_txt\n",
    "        )\n",
    "        current_ope = recette_txt\n",
    "        df_copy.drop(index=[depense_row.index[0], recette_row.index[0]], inplace=True)\n",
    "    elif not len(depense_row) and len(recette_row):\n",
    "        df_copy[title_col] = np.where(\n",
    "            df_copy.index < recette_row.index[0],\n",
    "            depense_txt,\n",
    "            recette_txt\n",
    "        )\n",
    "        current_ope = recette_txt\n",
    "        df_copy.drop(index=recette_row.index[0], inplace=True)\n",
    "    else:\n",
    "        df_copy[title_col] = current_ope\n",
    "    return df_copy, current_ope\n",
    "            \n",
    "# Paramètres pour l'extraction avec pdfplumber\n",
    "params = {\n",
    "    \"vertical_strategy\": \"explicit\",\n",
    "    \"horizontal_strategy\": \"explicit\",\n",
    "    \"explicit_vertical_lines\": [],\n",
    "    \"explicit_horizontal_lines\": [],\n",
    "    \"snap_tolerance\": 100,\n",
    "    \"snap_x_tolerance\": 3,\n",
    "    \"snap_y_tolerance\": 3,\n",
    "    \"join_tolerance\": 3,\n",
    "    \"join_x_tolerance\": 2000,\n",
    "    \"join_y_tolerance\": 0,\n",
    "    \"edge_min_length\": 3,\n",
    "    \"min_words_vertical\": 3,\n",
    "    \"min_words_horizontal\": 3,\n",
    "    \"intersection_tolerance\": 15,\n",
    "    \"intersection_x_tolerance\": 3,\n",
    "    \"intersection_y_tolerance\": 3,\n",
    "    \"text_tolerance\": 1,\n",
    "    \"text_x_tolerance\": 3,\n",
    "    \"text_y_tolerance\": 3,\n",
    "}\n",
    "\n",
    "section_dict = {\n",
    "    \"Invest\": \"Section d'investissement\",\n",
    "    \"Fonct\": \"Section de fonctionnement\"\n",
    "}"
   ]
  },
  {
   "cell_type": "markdown",
   "id": "cad6a77a-6971-4d20-9c6a-ba5674f139f6",
   "metadata": {},
   "source": [
    "# Main"
   ]
  },
  {
   "cell_type": "markdown",
   "id": "2bb4b8ff-e47c-413e-b6b0-bf43b9a496e1",
   "metadata": {},
   "source": [
    "## Tome 1 - Annexes hors dettes"
   ]
  },
  {
   "cell_type": "markdown",
   "id": "7fa69a4d-b5c3-4011-b4ad-2ef660a97f70",
   "metadata": {
    "jp-MarkdownHeadingCollapsed": true
   },
   "source": [
    "### Main function"
   ]
  },
  {
   "cell_type": "code",
   "execution_count": 7,
   "id": "51a8ff53-d56d-452c-9f71-07b97289e58e",
   "metadata": {},
   "outputs": [],
   "source": [
    "def main_tome1_annexes_depenses_recettes(folder_path, year, files_dict, min_page, max_page, section):\n",
    "    \n",
    "    # Defining path\n",
    "    path_pdf = os.path.join(folder_path, files_dict[year])\n",
    "\n",
    "    # Opening PDF\n",
    "    with pdfplumber.open(path_pdf) as pdf:\n",
    "        # Initialisation current opération\n",
    "        current_ope = \"Dépense\"\n",
    "    \n",
    "        # Initialisation final df\n",
    "        final_df = dict()\n",
    "\n",
    "        # Initialisation fonction (nom du tableau)\n",
    "        fonction_tableau = \"non_applicable\"\n",
    "        \n",
    "        # Parcourir chaque page\n",
    "        for page_num in range(min_page, max_page):\n",
    "            if page_num in (min_page, max_page-1) or page_num%5 == 0:\n",
    "                print(page_num)\n",
    "                \n",
    "            # Lire le tableau\n",
    "            page = pdf.pages[page_num]\n",
    "            params[\"explicit_vertical_lines\"] = page.curves + page.edges\n",
    "            params[\"explicit_horizontal_lines\"] = page.curves + page.edges\n",
    "            tables = page.extract_table(table_settings=params)\n",
    "            text = page.extract_text()\n",
    "            if tables: #Des pages peuvent être vides\n",
    "\n",
    "                if len(text):\n",
    "                    fonction_match = re.findall(r'(FONCTION .*?\\n)',text)\n",
    "                    if len(fonction_match):\n",
    "                        fonction_tableau = fonction_match[0].replace(\"\\n\",\"\").replace(\"(cid:150)\",\"–\").replace(\"Ø\",\"é\")\n",
    "                        \n",
    "                if not all(pd.Series(tables[0])==''):\n",
    "                    if tables[0][0] in (\"RECETTES\",\"DEPENSES\"):\n",
    "                        tables.pop(0)\n",
    "            \n",
    "                    # Obtenir l'index des tables où les colonnes commencent\n",
    "                    col_index = column_info(tables)\n",
    "            \n",
    "                    # Générer les noms des colonnes\n",
    "                    col_names = column_names_generate(tables, col_index)\n",
    "            \n",
    "                    # Générer le DataFrame\n",
    "                    df = pd.DataFrame(tables[col_index:], columns=col_names)\n",
    "            \n",
    "                    # Flag depense recette\n",
    "                    df, current_ope = flag_depense_recette(df, current_ope)\n",
    "\n",
    "                    # Corrections des éventuelles lignes en gras\n",
    "                    df = correct_bold_text(df)\n",
    "        \n",
    "                    if not all(df.iloc[:,1].isna()):\n",
    "                        # Conversion format numérique\n",
    "                        for col_index in range(2, df.shape[1]-1):\n",
    "                            df.iloc[:,col_index] = df.iloc[:,col_index].str.replace(\" \",\"\").str.replace(\",\",\".\").str.replace(\"\\n\",\"\").astype(float)\n",
    "                            \n",
    "                        # Ajout de colonnes d'information\n",
    "                        df.insert(0, \"Numéro_page\", page_num + 1)\n",
    "                        df.insert(0, \"Fonction\", fonction_tableau)\n",
    "                        df.insert(0, \"Section\", section_dict[section])\n",
    "                        df.insert(0, \"Fichier_source\", files_dict[year])\n",
    "                        df.insert(0, \"Année\", year)\n",
    "\n",
    "                        # Nettoyer caractères spéciaux\n",
    "                        df.columns = df.columns\\\n",
    "                            .str.replace(\"(cid:176)\",\"°\")\\\n",
    "                            .str.replace(\"Ø\",\"é\")\\\n",
    "                            .str.replace(\"(cid:244)\",\"ô\")\\\n",
    "                            .str.replace(\"(cid:224)\",\"à\")\\\n",
    "                            .str.replace(\"(cid:226)\",\"â\")\\\n",
    "                            .str.replace(\"(cid:231)\",\"ç\")\\\n",
    "                            .str.replace(\"Ł\",\"è\")\\\n",
    "                            .str.replace('(cid:146)',\"'\")\\\n",
    "                            .str.replace(\"Œ\",\"ê\")\\\n",
    "                            .str.replace(\"ß\",\"û\")\n",
    "                        df[\"Libellé\"] = df[\"Libellé\"]\\\n",
    "                            .str.replace(\"(cid:176)\",\"°\")\\\n",
    "                            .str.replace(\"Ø\",\"é\")\\\n",
    "                            .str.replace(\"(cid:244)\",\"ô\")\\\n",
    "                            .str.replace(\"(cid:224)\",\"à\")\\\n",
    "                            .str.replace(\"(cid:226)\",\"â\")\\\n",
    "                            .str.replace(\"(cid:231)\",\"ç\")\\\n",
    "                            .str.replace(\"Ł\",\"è\")\\\n",
    "                            .str.replace('(cid:146)',\"'\")\\\n",
    "                            .str.replace(\"Œ\",\"ê\")\\\n",
    "                            .str.replace(\"ß\",\"û\")\n",
    "                        \n",
    "                        # Concatenating\n",
    "                        if page_num == min_page:\n",
    "                            final_df[page_num] = df\n",
    "                        else:\n",
    "                            precedent_key = list(final_df)[-1]\n",
    "                            if df.shape[1]==final_df[precedent_key].shape[1] and all(df.columns == final_df[precedent_key].columns):\n",
    "                                final_df[page_num] = pd.concat([final_df[precedent_key], df]).reset_index(drop=True)\n",
    "                                final_df.pop(precedent_key)\n",
    "                            else:\n",
    "                                final_df[page_num] = df\n",
    "    return final_df"
   ]
  },
  {
   "cell_type": "markdown",
   "id": "6d2efdef-0f3b-45cd-b626-2e90815f0c73",
   "metadata": {
    "jp-MarkdownHeadingCollapsed": true
   },
   "source": [
    "### Params"
   ]
  },
  {
   "cell_type": "code",
   "execution_count": 8,
   "id": "3daac443-0075-46e5-928b-2f0147a0b00c",
   "metadata": {},
   "outputs": [],
   "source": [
    "# Définir le chemin du fichier PDF\n",
    "folder_path = os.path.join(\"sources\", \"Tome_1\")\n",
    "\n",
    "# Creation dictionnaire fichiers\n",
    "files_dict = {\n",
    "    2023: \"CA 2023 - Budget général Compte sur chiffres et annexes Tome 1.pdf\",\n",
    "    2022: \"02 - CA 2022 Budget général - Compte sur chiffres et annexes - Tome 1.pdf\",\n",
    "    2021: \"CA 2021 - Tome 1.pdf\",\n",
    "    2020: \"04 Document budgétaire (Tome 1).pdf\",\n",
    "    2019: \"04 - Document budgétaire (Tome 1.1).pdf\"\n",
    "}"
   ]
  },
  {
   "cell_type": "markdown",
   "id": "1c606fed-f6cc-409f-b047-668368e47675",
   "metadata": {},
   "source": [
    "### Extraction"
   ]
  },
  {
   "cell_type": "code",
   "execution_count": 9,
   "id": "610fc8b7-8ac4-4b38-ab45-3ac9bf084d8c",
   "metadata": {},
   "outputs": [],
   "source": [
    "all_df = {}"
   ]
  },
  {
   "cell_type": "code",
   "execution_count": 10,
   "id": "0b2e2b06-1486-4d57-aaa1-9c6e50e5151d",
   "metadata": {
    "collapsed": true,
    "jupyter": {
     "outputs_hidden": true,
     "source_hidden": true
    }
   },
   "outputs": [
    {
     "name": "stdout",
     "output_type": "stream",
     "text": [
      "110\n",
      "115\n",
      "120\n",
      "125\n",
      "130\n",
      "135\n",
      "140\n",
      "145\n",
      "150\n",
      "155\n",
      "156\n",
      "159\n",
      "160\n",
      "165\n",
      "170\n",
      "175\n",
      "180\n",
      "185\n",
      "190\n",
      "195\n",
      "200\n",
      "205\n",
      "210\n",
      "215\n",
      "220\n",
      "225\n",
      "230\n",
      "235\n",
      "240\n",
      "245\n",
      "246\n"
     ]
    }
   ],
   "source": [
    "year = 2023\n",
    "tome1_2023_invest = main_tome1_annexes_depenses_recettes(folder_path, year, files_dict, min_page = 110, max_page = 157, section=\"Invest\")\n",
    "tome1_2023_fonct = main_tome1_annexes_depenses_recettes(folder_path, year, files_dict, min_page = 159, max_page = 247, section=\"Fonct\")\n",
    "all_df[f\"Tome 1_{year}_Section_Investissement\"] = tome1_2023_invest\n",
    "all_df[f\"Tome 1_{year}_Section_Fonctionnement\"] = tome1_2023_fonct"
   ]
  },
  {
   "cell_type": "code",
   "execution_count": 11,
   "id": "112e193c-6347-467c-a8d0-0f4eb51e652a",
   "metadata": {
    "collapsed": true,
    "jupyter": {
     "outputs_hidden": true,
     "source_hidden": true
    },
    "scrolled": true
   },
   "outputs": [
    {
     "name": "stdout",
     "output_type": "stream",
     "text": [
      "110\n",
      "115\n",
      "120\n",
      "125\n",
      "130\n",
      "135\n",
      "140\n",
      "145\n",
      "150\n",
      "154\n",
      "159\n",
      "160\n",
      "165\n",
      "170\n",
      "175\n",
      "180\n",
      "185\n",
      "190\n",
      "195\n",
      "200\n",
      "205\n",
      "210\n",
      "215\n",
      "220\n",
      "225\n",
      "230\n",
      "235\n",
      "240\n",
      "243\n"
     ]
    }
   ],
   "source": [
    "year = 2022\n",
    "tome1_2022_invest = main_tome1_annexes_depenses_recettes(folder_path, year, files_dict, min_page = 110, max_page = 155, section=\"Invest\")\n",
    "tome1_2022_fonct = main_tome1_annexes_depenses_recettes(folder_path, year, files_dict, min_page = 159, max_page = 244, section=\"Fonct\")\n",
    "all_df[f\"Tome 1_{year}_Section_Investissement\"] = tome1_2022_invest\n",
    "all_df[f\"Tome 1_{year}_Section_Fonctionnement\"] = tome1_2022_fonct"
   ]
  },
  {
   "cell_type": "code",
   "execution_count": 12,
   "id": "622eef81-df9c-416c-bced-606941c8a5d1",
   "metadata": {
    "collapsed": true,
    "jupyter": {
     "outputs_hidden": true,
     "source_hidden": true
    }
   },
   "outputs": [
    {
     "name": "stdout",
     "output_type": "stream",
     "text": [
      "110\n",
      "115\n",
      "120\n",
      "125\n",
      "130\n",
      "135\n",
      "140\n",
      "145\n",
      "148\n",
      "154\n",
      "155\n",
      "160\n",
      "165\n",
      "170\n",
      "175\n",
      "180\n",
      "185\n",
      "190\n",
      "195\n",
      "200\n",
      "205\n",
      "210\n",
      "215\n",
      "220\n",
      "225\n",
      "230\n",
      "235\n",
      "237\n"
     ]
    }
   ],
   "source": [
    "year = 2021\n",
    "tome1_2021_invest = main_tome1_annexes_depenses_recettes(folder_path, year, files_dict, min_page = 110, max_page = 149, section=\"Invest\")\n",
    "tome1_2021_fonct = main_tome1_annexes_depenses_recettes(folder_path, year, files_dict, min_page = 154, max_page = 238, section=\"Fonct\")\n",
    "all_df[f\"Tome 1_{year}_Section_Investissement\"] = tome1_2021_invest\n",
    "all_df[f\"Tome 1_{year}_Section_Fonctionnement\"] = tome1_2021_fonct"
   ]
  },
  {
   "cell_type": "code",
   "execution_count": 13,
   "id": "44797206-10f6-4c6b-a9c7-3c9162d74ee8",
   "metadata": {
    "collapsed": true,
    "jupyter": {
     "outputs_hidden": true,
     "source_hidden": true
    },
    "scrolled": true
   },
   "outputs": [
    {
     "name": "stdout",
     "output_type": "stream",
     "text": [
      "112\n",
      "115\n",
      "120\n",
      "125\n",
      "130\n",
      "135\n",
      "140\n",
      "145\n",
      "150\n",
      "151\n",
      "156\n",
      "160\n",
      "165\n",
      "170\n",
      "175\n",
      "180\n",
      "185\n",
      "190\n",
      "195\n",
      "200\n",
      "205\n",
      "210\n",
      "215\n",
      "220\n",
      "225\n",
      "230\n",
      "235\n",
      "238\n"
     ]
    }
   ],
   "source": [
    "year = 2020\n",
    "tome1_2020_invest = main_tome1_annexes_depenses_recettes(folder_path, year, files_dict, min_page = 112, max_page = 152, section=\"Invest\")\n",
    "tome1_2020_fonct = main_tome1_annexes_depenses_recettes(folder_path, year, files_dict, min_page = 156, max_page = 239, section=\"Fonct\")\n",
    "all_df[f\"Tome 1_{year}_Section_Investissement\"] = tome1_2020_invest\n",
    "all_df[f\"Tome 1_{year}_Section_Fonctionnement\"] = tome1_2020_fonct"
   ]
  },
  {
   "cell_type": "code",
   "execution_count": 14,
   "id": "0db51529-5700-413f-bd49-5d8a94cefa30",
   "metadata": {
    "collapsed": true,
    "jupyter": {
     "outputs_hidden": true,
     "source_hidden": true
    },
    "scrolled": true
   },
   "outputs": [
    {
     "name": "stdout",
     "output_type": "stream",
     "text": [
      "113\n",
      "115\n",
      "120\n",
      "125\n",
      "130\n",
      "135\n",
      "140\n",
      "145\n",
      "150\n",
      "155\n",
      "160\n",
      "165\n",
      "170\n",
      "175\n",
      "180\n",
      "185\n",
      "190\n",
      "195\n",
      "200\n",
      "205\n",
      "210\n",
      "215\n",
      "220\n",
      "225\n",
      "230\n",
      "235\n",
      "240\n",
      "245\n",
      "250\n",
      "255\n",
      "260\n",
      "261\n"
     ]
    }
   ],
   "source": [
    "year = 2019\n",
    "tome1_2019_invest = main_tome1_annexes_depenses_recettes(folder_path, year, files_dict, min_page = 113, max_page = 161, section=\"Invest\")\n",
    "tome1_2019_fonct = main_tome1_annexes_depenses_recettes(folder_path, year, files_dict, min_page = 165, max_page = 262, section=\"Fonct\")\n",
    "all_df[f\"Tome 1_{year}_Section_Investissement\"] = tome1_2019_invest\n",
    "all_df[f\"Tome 1_{year}_Section_Fonctionnement\"] = tome1_2019_fonct"
   ]
  },
  {
   "cell_type": "code",
   "execution_count": 15,
   "id": "ca39ac91-162f-454e-8ebb-32c96d69e06c",
   "metadata": {},
   "outputs": [
    {
     "data": {
      "text/plain": [
       "dict_keys(['Tome 1_2023_Section_Investissement', 'Tome 1_2023_Section_Fonctionnement', 'Tome 1_2022_Section_Investissement', 'Tome 1_2022_Section_Fonctionnement', 'Tome 1_2021_Section_Investissement', 'Tome 1_2021_Section_Fonctionnement', 'Tome 1_2020_Section_Investissement', 'Tome 1_2020_Section_Fonctionnement', 'Tome 1_2019_Section_Investissement', 'Tome 1_2019_Section_Fonctionnement'])"
      ]
     },
     "execution_count": 15,
     "metadata": {},
     "output_type": "execute_result"
    }
   ],
   "source": [
    "all_df.keys()"
   ]
  },
  {
   "cell_type": "markdown",
   "id": "542718fa-0f57-40b0-8ede-8ea22e288a35",
   "metadata": {},
   "source": [
    "### Stacking"
   ]
  },
  {
   "cell_type": "code",
   "execution_count": 32,
   "id": "b53e4203-83fe-4ac3-81e2-e9ca363f65e3",
   "metadata": {},
   "outputs": [
    {
     "data": {
      "text/html": [
       "<div>\n",
       "<style scoped>\n",
       "    .dataframe tbody tr th:only-of-type {\n",
       "        vertical-align: middle;\n",
       "    }\n",
       "\n",
       "    .dataframe tbody tr th {\n",
       "        vertical-align: top;\n",
       "    }\n",
       "\n",
       "    .dataframe thead th {\n",
       "        text-align: right;\n",
       "    }\n",
       "</style>\n",
       "<table border=\"1\" class=\"dataframe\">\n",
       "  <thead>\n",
       "    <tr style=\"text-align: right;\">\n",
       "      <th></th>\n",
       "      <th>Année</th>\n",
       "      <th>Fichier_source</th>\n",
       "      <th>Fonction</th>\n",
       "      <th>Section</th>\n",
       "      <th>Libellé</th>\n",
       "      <th>type_opération</th>\n",
       "      <th>Article / compte nature (1)</th>\n",
       "      <th>Numéro_page</th>\n",
       "      <th>Nom_Colonne</th>\n",
       "      <th>Valeur</th>\n",
       "    </tr>\n",
       "  </thead>\n",
       "  <tbody>\n",
       "    <tr>\n",
       "      <th>0</th>\n",
       "      <td>2023</td>\n",
       "      <td>CA 2023 - Budget général Compte sur chiffres e...</td>\n",
       "      <td>FONCTION 0 – Services généraux</td>\n",
       "      <td>Section d'investissement</td>\n",
       "      <td>Subv. non transf. Etat, établ. nationaux</td>\n",
       "      <td>Dépense</td>\n",
       "      <td>1321</td>\n",
       "      <td>111</td>\n",
       "      <td>90-02 Administration générale 90-020 Admin. gé...</td>\n",
       "      <td>0.00</td>\n",
       "    </tr>\n",
       "    <tr>\n",
       "      <th>1</th>\n",
       "      <td>2023</td>\n",
       "      <td>CA 2023 - Budget général Compte sur chiffres e...</td>\n",
       "      <td>FONCTION 0 – Services généraux</td>\n",
       "      <td>Section d'investissement</td>\n",
       "      <td>Subv. non transf. Etat, établ. nationaux</td>\n",
       "      <td>Dépense</td>\n",
       "      <td>1321</td>\n",
       "      <td>111</td>\n",
       "      <td>90-02 Administration générale 90-021 Personnel...</td>\n",
       "      <td>0.00</td>\n",
       "    </tr>\n",
       "    <tr>\n",
       "      <th>2</th>\n",
       "      <td>2023</td>\n",
       "      <td>CA 2023 - Budget général Compte sur chiffres e...</td>\n",
       "      <td>FONCTION 0 – Services généraux</td>\n",
       "      <td>Section d'investissement</td>\n",
       "      <td>Subv. non transf. Etat, établ. nationaux</td>\n",
       "      <td>Dépense</td>\n",
       "      <td>1321</td>\n",
       "      <td>111</td>\n",
       "      <td>90-02 Administration générale 90-022 Informati...</td>\n",
       "      <td>0.00</td>\n",
       "    </tr>\n",
       "    <tr>\n",
       "      <th>3</th>\n",
       "      <td>2023</td>\n",
       "      <td>CA 2023 - Budget général Compte sur chiffres e...</td>\n",
       "      <td>FONCTION 0 – Services généraux</td>\n",
       "      <td>Section d'investissement</td>\n",
       "      <td>Subv. non transf. Etat, établ. nationaux</td>\n",
       "      <td>Dépense</td>\n",
       "      <td>1321</td>\n",
       "      <td>111</td>\n",
       "      <td>90-02 Administration générale 90-023 Fêtes et ...</td>\n",
       "      <td>0.00</td>\n",
       "    </tr>\n",
       "    <tr>\n",
       "      <th>4</th>\n",
       "      <td>2023</td>\n",
       "      <td>CA 2023 - Budget général Compte sur chiffres e...</td>\n",
       "      <td>FONCTION 0 – Services généraux</td>\n",
       "      <td>Section d'investissement</td>\n",
       "      <td>Subv. non transf. Etat, établ. nationaux</td>\n",
       "      <td>Dépense</td>\n",
       "      <td>1321</td>\n",
       "      <td>111</td>\n",
       "      <td>90-02 Administration générale 90-024 Aide aux ...</td>\n",
       "      <td>0.00</td>\n",
       "    </tr>\n",
       "  </tbody>\n",
       "</table>\n",
       "</div>"
      ],
      "text/plain": [
       "   Année                                     Fichier_source  \\\n",
       "0   2023  CA 2023 - Budget général Compte sur chiffres e...   \n",
       "1   2023  CA 2023 - Budget général Compte sur chiffres e...   \n",
       "2   2023  CA 2023 - Budget général Compte sur chiffres e...   \n",
       "3   2023  CA 2023 - Budget général Compte sur chiffres e...   \n",
       "4   2023  CA 2023 - Budget général Compte sur chiffres e...   \n",
       "\n",
       "                         Fonction                   Section  \\\n",
       "0  FONCTION 0 – Services généraux  Section d'investissement   \n",
       "1  FONCTION 0 – Services généraux  Section d'investissement   \n",
       "2  FONCTION 0 – Services généraux  Section d'investissement   \n",
       "3  FONCTION 0 – Services généraux  Section d'investissement   \n",
       "4  FONCTION 0 – Services généraux  Section d'investissement   \n",
       "\n",
       "                                    Libellé type_opération  \\\n",
       "0  Subv. non transf. Etat, établ. nationaux        Dépense   \n",
       "1  Subv. non transf. Etat, établ. nationaux        Dépense   \n",
       "2  Subv. non transf. Etat, établ. nationaux        Dépense   \n",
       "3  Subv. non transf. Etat, établ. nationaux        Dépense   \n",
       "4  Subv. non transf. Etat, établ. nationaux        Dépense   \n",
       "\n",
       "  Article / compte nature (1)  Numéro_page  \\\n",
       "0                        1321          111   \n",
       "1                        1321          111   \n",
       "2                        1321          111   \n",
       "3                        1321          111   \n",
       "4                        1321          111   \n",
       "\n",
       "                                         Nom_Colonne Valeur  \n",
       "0  90-02 Administration générale 90-020 Admin. gé...   0.00  \n",
       "1  90-02 Administration générale 90-021 Personnel...   0.00  \n",
       "2  90-02 Administration générale 90-022 Informati...   0.00  \n",
       "3  90-02 Administration générale 90-023 Fêtes et ...   0.00  \n",
       "4  90-02 Administration générale 90-024 Aide aux ...   0.00  "
      ]
     },
     "execution_count": 32,
     "metadata": {},
     "output_type": "execute_result"
    }
   ],
   "source": [
    "df_all_stack = pd.DataFrame()\n",
    "for file_name, dict_year in all_df.items():\n",
    "    for _, df in dict_year.items():\n",
    "        df_stack = pd.DataFrame(\n",
    "            df.set_index([\"Année\",\"Fichier_source\",\"Fonction\",\"Section\",\"Libellé\",\"type_opération\",\"Article / compte nature (1)\",\"Numéro_page\"]\n",
    "                          )\\\n",
    "            .stack()\n",
    "        )\\\n",
    "        .reset_index()\\\n",
    "        .rename(\n",
    "            columns={\n",
    "                \"level_8\":\"Nom_Colonne\", \n",
    "                0:\"Valeur\"\n",
    "            }\n",
    "        )\n",
    "        df_all_stack = pd.concat([df_all_stack, df_stack])\n",
    "df_all_stack.reset_index(drop=True, inplace=True)\n",
    "df_all_stack.head()"
   ]
  },
  {
   "cell_type": "markdown",
   "id": "4c85cd35-f0a9-45e9-91a2-24c025d5fee5",
   "metadata": {},
   "source": [
    "### Excel extraction"
   ]
  },
  {
   "cell_type": "code",
   "execution_count": 30,
   "id": "ac09bf14-fd4f-43a9-a87f-0a4f375fb285",
   "metadata": {},
   "outputs": [],
   "source": [
    "# Use ExcelWriter to write each DataFrame to a sheet\n",
    "for file_name, dict_year in all_df.items():\n",
    "    file_name = f\"{file_name}.xlsx\"\n",
    "    with pd.ExcelWriter(file_name, engine='xlsxwriter') as writer:\n",
    "        for sheet_name, df in dict_year.items():\n",
    "            sheet_name = str(sheet_name)\n",
    "            df.to_excel(writer, sheet_name=sheet_name, index=False)"
   ]
  },
  {
   "cell_type": "code",
   "execution_count": 33,
   "id": "59392bc3-1ba6-4e03-9ff0-3022c22d7ab5",
   "metadata": {},
   "outputs": [],
   "source": [
    "with pd.ExcelWriter(\"Tome 1_2019-2023.xlsx\", engine='xlsxwriter') as writer:\n",
    "    sheet_name = \"Data\"\n",
    "    df_all_stack.to_excel(writer, sheet_name=sheet_name, index=False)"
   ]
  }
 ],
 "metadata": {
  "kernelspec": {
   "display_name": "Python 3 (ipykernel)",
   "language": "python",
   "name": "python3"
  },
  "language_info": {
   "codemirror_mode": {
    "name": "ipython",
    "version": 3
   },
   "file_extension": ".py",
   "mimetype": "text/x-python",
   "name": "python",
   "nbconvert_exporter": "python",
   "pygments_lexer": "ipython3",
   "version": "3.10.6"
  },
  "toc": {
   "base_numbering": 1,
   "nav_menu": {},
   "number_sections": true,
   "sideBar": true,
   "skip_h1_title": false,
   "title_cell": "Table of Contents",
   "title_sidebar": "Contents",
   "toc_cell": false,
   "toc_position": {},
   "toc_section_display": true,
   "toc_window_display": false
  }
 },
 "nbformat": 4,
 "nbformat_minor": 5
}
