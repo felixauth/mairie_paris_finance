{
 "cells": [
  {
   "cell_type": "markdown",
   "id": "8032669f-2e7a-4be9-a11b-9f0d8449ed2e",
   "metadata": {
    "jp-MarkdownHeadingCollapsed": true
   },
   "source": [
    "# Import packages"
   ]
  },
  {
   "cell_type": "code",
   "execution_count": 1,
   "id": "770a1c51-9477-41f7-96aa-2e50b581bd9c",
   "metadata": {},
   "outputs": [],
   "source": [
    "import os\n",
    "import pandas as pd\n",
    "import numpy as np\n",
    "import re\n",
    "import warnings\n",
    "import pdfplumber\n",
    "warnings.filterwarnings('ignore')\n",
    "pd.set_option('display.float_format', '{:.2f}'.format)"
   ]
  },
  {
   "cell_type": "markdown",
   "id": "1fabe595-4255-4fae-b7db-823933f61d00",
   "metadata": {},
   "source": [
    "# Utils"
   ]
  },
  {
   "cell_type": "code",
   "execution_count": 2,
   "id": "d5d8fab3-4f01-4093-9c98-370c2cb9f055",
   "metadata": {},
   "outputs": [],
   "source": [
    "# Fonction pour générer les noms de colonnes\n",
    "def column_names_generate(tables, index_col_table):\n",
    "    col_name_list = []\n",
    "    zip_list = [list(element) for element in zip(*tables[0:index_col_table])]\n",
    "    for index, col in enumerate(zip_list): # col 0 is\n",
    "        # Repeat the subcolumn names\n",
    "        if not col[0]:\n",
    "            for index_e, e in enumerate(col):\n",
    "                following_values = all(pd.Series(col[index_e:]).isna()) \n",
    "                if (not e) and (not following_values):\n",
    "                    zip_list[index][index_e] = zip_list[index-1][index_e]\n",
    "        cleaned_list = ['' if not x else x.replace(\"\\n\", \" \") for x in col]\n",
    "        col_name_list.append(\" \".join(cleaned_list))\n",
    "    col_name_list = [col_name.lstrip().rstrip() if col_name else col_name for col_name in col_name_list]\n",
    "    return col_name_list\n",
    "\n",
    "def correct_bold_text_double(df):\n",
    "    df_copy = df.copy()\n",
    "    rows_to_correct = []\n",
    "    col_to_check = df_copy.iloc[:, 5]  # contrôle arbitraire sur la cinquième colonne qui est la première numérique\n",
    "    for index, val in col_to_check.items():\n",
    "        if \",,\" in val:\n",
    "            rows_to_correct.append(index)\n",
    "    if not len(rows_to_correct):\n",
    "        return df_copy\n",
    "    for row in rows_to_correct:\n",
    "        df_copy.iloc[row, 5:] = df_copy.iloc[row, 5:].apply(lambda x: x.replace(\" \", \"\") if len(x) else x)\n",
    "        correct_text = []\n",
    "        for text in df_copy.iloc[row, 5:]:\n",
    "            text_f = \"\"\n",
    "            for carac in range(0, len(text), 2):\n",
    "                text_f += text[carac]\n",
    "            correct_text.append(text_f)\n",
    "        df_copy.iloc[row, 5:] = correct_text\n",
    "    return df_copy\n",
    "\n",
    "def correct_bold_text_triple(df):\n",
    "    df_copy = df.copy()\n",
    "    rows_to_correct = []\n",
    "    col_to_check = df_copy.iloc[:, 5]  # contrôle arbitraire sur la cinquième colonne qui est la première numérique\n",
    "    for index, val in col_to_check.items():\n",
    "        if \",,,\" in val:\n",
    "            rows_to_correct.append(index)\n",
    "    if not len(rows_to_correct):\n",
    "        return df_copy\n",
    "    for row in rows_to_correct:\n",
    "        df_copy.iloc[row, 5:] = df_copy.iloc[row, 5:].apply(lambda x: x.replace(\" \", \"\") if len(x) else x)\n",
    "        correct_text = []\n",
    "        for text in df_copy.iloc[row, 5:]:\n",
    "            text_f = \"\"\n",
    "            for carac in range(0, len(text), 3):\n",
    "                text_f += text[carac]\n",
    "            correct_text.append(text_f)\n",
    "        df_copy.iloc[row, 5:] = correct_text\n",
    "    return df_copy\n",
    "    \n",
    "# Paramètres pour l'extraction avec pdfplumber\n",
    "params = {\n",
    "    \"vertical_strategy\": \"explicit\",\n",
    "    \"horizontal_strategy\": \"explicit\",\n",
    "    \"explicit_vertical_lines\": [],\n",
    "    \"explicit_horizontal_lines\": [],\n",
    "    \"snap_tolerance\": 100,\n",
    "    \"snap_x_tolerance\": 3,\n",
    "    \"snap_y_tolerance\": 3,\n",
    "    \"join_tolerance\": 3,\n",
    "    \"join_x_tolerance\": 2000,\n",
    "    \"join_y_tolerance\": 0,\n",
    "    \"edge_min_length\": 3,\n",
    "    \"min_words_vertical\": 3,\n",
    "    \"min_words_horizontal\": 3,\n",
    "    \"intersection_tolerance\": 15,\n",
    "    \"intersection_x_tolerance\": 3,\n",
    "    \"intersection_y_tolerance\": 3,\n",
    "    \"text_tolerance\": 1,\n",
    "    \"text_x_tolerance\": 3,\n",
    "    \"text_y_tolerance\": 3,\n",
    "}"
   ]
  },
  {
   "cell_type": "markdown",
   "id": "cad6a77a-6971-4d20-9c6a-ba5674f139f6",
   "metadata": {},
   "source": [
    "# Main"
   ]
  },
  {
   "cell_type": "markdown",
   "id": "2bb4b8ff-e47c-413e-b6b0-bf43b9a496e1",
   "metadata": {},
   "source": [
    "## Tome 2 - Etat des emprunts"
   ]
  },
  {
   "cell_type": "markdown",
   "id": "7fa69a4d-b5c3-4011-b4ad-2ef660a97f70",
   "metadata": {},
   "source": [
    "### Main function"
   ]
  },
  {
   "cell_type": "code",
   "execution_count": 14,
   "id": "51a8ff53-d56d-452c-9f71-07b97289e58e",
   "metadata": {},
   "outputs": [],
   "source": [
    "def main_tome2(folder_path, year, files_dict, min_page, max_page):\n",
    "    \n",
    "    # Defining path\n",
    "    path_pdf = os.path.join(folder_path, files_dict[year])\n",
    "\n",
    "    # Initialisation final df\n",
    "    final_df = pd.DataFrame()\n",
    "    \n",
    "    # Opening PDF\n",
    "    with pdfplumber.open(path_pdf) as pdf:\n",
    "        for page_num in range(min_page, max_page):\n",
    "            \n",
    "            if page_num in (min_page, max_page-1) or page_num%10 == 0:\n",
    "                print(page_num)\n",
    "                \n",
    "            # Lire le tableau\n",
    "            page = pdf.pages[page_num]\n",
    "            params[\"explicit_vertical_lines\"] = page.curves + page.edges\n",
    "            params[\"explicit_horizontal_lines\"] = page.curves + page.edges\n",
    "            tables = page.extract_table(table_settings=params)\n",
    "\n",
    "            if tables:\n",
    "                # Générer les noms des colonnes\n",
    "                col_index = 2\n",
    "                col_names = column_names_generate(tables, col_index)\n",
    "\n",
    "                # Générer le DataFrame\n",
    "                df = pd.DataFrame(tables[col_index:], columns=col_names)\n",
    "                \n",
    "                # Corrections des éventuelles lignes en gras\n",
    "                df = correct_bold_text_triple(df)\n",
    "                df = correct_bold_text_double(df)\n",
    "                \n",
    "                # Ajout colonne\n",
    "                df.insert(0, \"Numéro_page\", page_num + 1)\n",
    "                \n",
    "                # Concatenation\n",
    "                final_df = pd.concat([final_df, df])\n",
    "\n",
    "    # Cleaning\n",
    "    text_col = [1, 4, 5]\n",
    "    num_col = [6, 7, 8, 12, 15, 18, 19]\n",
    "    for col in text_col:\n",
    "        final_df.iloc[:,col] = final_df.iloc[:,col]\\\n",
    "            .str.replace(\"\\n\",\" \")\\\n",
    "            .str.replace(\"(cid:176)\",\"°\")\\\n",
    "            .str.replace(\"Ø\",\"é\")\\\n",
    "            .str.replace(\"(cid:244)\",\"ô\")\\\n",
    "            .str.replace(\"(cid:224)\",\"à\")\\\n",
    "            .str.replace(\"(cid:226)\",\"â\")\\\n",
    "            .str.replace(\"(cid:231)\",\"ç\")\\\n",
    "            .str.replace(\"Ł\",\"è\")\n",
    "    for col in num_col:\n",
    "        final_df.iloc[:,col] = final_df.iloc[:,col].apply(lambda x: float(x.replace(\" \",\"\").replace(\",\",\".\").replace(\"\\n\",\"\")) if len(x) else x)\n",
    "    final_df.columns = final_df.columns\\\n",
    "        .str.replace(\"(cid:176)\",\"°\")\\\n",
    "        .str.replace(\"Ø\",\"é\")\\\n",
    "        .str.replace(\"(cid:244)\",\"ô\")\\\n",
    "        .str.replace(\"(cid:224)\",\"à\")\\\n",
    "        .str.replace(\"(cid:226)\",\"â\")\\\n",
    "        .str.replace(\"(cid:231)\",\"ç\")\\\n",
    "        .str.replace(\"Ł\",\"è\")\\\n",
    "        .str.replace('(cid:146)',\"'\")\\\n",
    "        .str.replace(\"Œ\",\"ê\")\\\n",
    "        .str.replace(\"ß\",\"û\")\n",
    "    \n",
    "    # Ajout nom fichier\n",
    "    final_df.insert(0, \"Fichier_source\", files_dict[year])\n",
    "    final_df.insert(0, \"Année\", year)\n",
    "    \n",
    "    final_df.reset_index(drop=True, inplace=True)\n",
    "    \n",
    "    return final_df"
   ]
  },
  {
   "cell_type": "markdown",
   "id": "6d2efdef-0f3b-45cd-b626-2e90815f0c73",
   "metadata": {
    "jp-MarkdownHeadingCollapsed": true
   },
   "source": [
    "### Params"
   ]
  },
  {
   "cell_type": "code",
   "execution_count": 4,
   "id": "3daac443-0075-46e5-928b-2f0147a0b00c",
   "metadata": {},
   "outputs": [],
   "source": [
    "# Définir le chemin du fichier PDF\n",
    "folder_path = os.path.join(\"sources\", \"Tome_2\")\n",
    "\n",
    "# Creation dictionnaire fichiers\n",
    "files_dict = {\n",
    "    2023: \"CA 2023 - Budget général Compte sur chiffres et annexes Tome 2.pdf\",\n",
    "    2022: \"03 - CA 2022 Budget général - Compte sur chiffres et annexes - Tome 2.pdf\",\n",
    "    2021: \"CA 2021 - Tome 2.pdf\",\n",
    "    2020: \"CA 2020 Document budgétaire (Tome 2.1).pdf\",\n",
    "    2019: \"04 - Document budgétaire (Tome 1.2).pdf\"\n",
    "}"
   ]
  },
  {
   "cell_type": "markdown",
   "id": "1c606fed-f6cc-409f-b047-668368e47675",
   "metadata": {},
   "source": [
    "### Extraction"
   ]
  },
  {
   "cell_type": "code",
   "execution_count": 15,
   "id": "610fc8b7-8ac4-4b38-ab45-3ac9bf084d8c",
   "metadata": {},
   "outputs": [],
   "source": [
    "all_df = {}"
   ]
  },
  {
   "cell_type": "code",
   "execution_count": 16,
   "id": "0b2e2b06-1486-4d57-aaa1-9c6e50e5151d",
   "metadata": {
    "collapsed": true,
    "jupyter": {
     "outputs_hidden": true
    }
   },
   "outputs": [
    {
     "name": "stdout",
     "output_type": "stream",
     "text": [
      "6\n",
      "10\n",
      "20\n",
      "30\n",
      "40\n",
      "50\n",
      "60\n",
      "70\n",
      "80\n",
      "90\n",
      "100\n",
      "110\n",
      "120\n",
      "130\n",
      "140\n",
      "150\n",
      "160\n",
      "170\n",
      "180\n",
      "190\n",
      "200\n",
      "210\n",
      "220\n",
      "230\n",
      "240\n",
      "250\n",
      "260\n",
      "270\n",
      "280\n",
      "290\n",
      "300\n",
      "310\n",
      "320\n",
      "330\n",
      "340\n",
      "350\n",
      "360\n",
      "370\n",
      "380\n",
      "390\n",
      "400\n",
      "410\n",
      "420\n",
      "430\n",
      "440\n",
      "450\n",
      "460\n",
      "470\n",
      "480\n",
      "490\n",
      "500\n",
      "510\n",
      "520\n",
      "530\n",
      "540\n",
      "545\n"
     ]
    }
   ],
   "source": [
    "year = 2023\n",
    "all_df[f\"Tome 2_{year}_Etat_emprunts_garantis\"] = main_tome2(folder_path, year, files_dict, min_page = 6, max_page = 546)"
   ]
  },
  {
   "cell_type": "code",
   "execution_count": 17,
   "id": "112e193c-6347-467c-a8d0-0f4eb51e652a",
   "metadata": {
    "collapsed": true,
    "jupyter": {
     "outputs_hidden": true
    },
    "scrolled": true
   },
   "outputs": [
    {
     "name": "stdout",
     "output_type": "stream",
     "text": [
      "43\n",
      "50\n",
      "60\n",
      "70\n",
      "80\n",
      "90\n",
      "100\n",
      "110\n",
      "120\n",
      "130\n",
      "140\n",
      "150\n",
      "160\n",
      "170\n",
      "180\n",
      "190\n",
      "200\n",
      "210\n",
      "220\n",
      "230\n",
      "240\n",
      "250\n",
      "260\n",
      "270\n",
      "280\n",
      "290\n",
      "300\n",
      "310\n",
      "320\n",
      "330\n",
      "340\n",
      "350\n",
      "360\n",
      "370\n",
      "380\n",
      "390\n",
      "400\n",
      "410\n",
      "420\n",
      "430\n",
      "440\n",
      "450\n",
      "460\n",
      "470\n",
      "480\n",
      "481\n"
     ]
    }
   ],
   "source": [
    "year = 2022\n",
    "all_df[f\"Tome 2_{year}_Etat_emprunts_garantis\"] = main_tome2(folder_path, year, files_dict, min_page = 43, max_page = 482)"
   ]
  },
  {
   "cell_type": "code",
   "execution_count": 18,
   "id": "622eef81-df9c-416c-bced-606941c8a5d1",
   "metadata": {
    "collapsed": true,
    "jupyter": {
     "outputs_hidden": true
    }
   },
   "outputs": [
    {
     "name": "stdout",
     "output_type": "stream",
     "text": [
      "8\n",
      "10\n",
      "20\n",
      "30\n",
      "40\n",
      "50\n",
      "60\n",
      "70\n",
      "80\n",
      "90\n",
      "100\n",
      "110\n",
      "120\n",
      "130\n",
      "140\n",
      "150\n",
      "160\n",
      "170\n",
      "180\n",
      "190\n",
      "200\n",
      "210\n",
      "220\n",
      "230\n",
      "240\n",
      "250\n",
      "260\n",
      "270\n",
      "280\n",
      "290\n",
      "300\n",
      "310\n",
      "320\n",
      "330\n",
      "340\n",
      "350\n",
      "360\n",
      "370\n",
      "380\n",
      "390\n",
      "400\n",
      "410\n",
      "420\n",
      "430\n",
      "434\n"
     ]
    }
   ],
   "source": [
    "year = 2021\n",
    "all_df[f\"Tome 2_{year}_Etat_emprunts_garantis\"] = main_tome2(folder_path, year, files_dict, min_page = 8, max_page = 435)"
   ]
  },
  {
   "cell_type": "code",
   "execution_count": 19,
   "id": "44797206-10f6-4c6b-a9c7-3c9162d74ee8",
   "metadata": {
    "collapsed": true,
    "jupyter": {
     "outputs_hidden": true
    },
    "scrolled": true
   },
   "outputs": [
    {
     "name": "stdout",
     "output_type": "stream",
     "text": [
      "9\n",
      "10\n",
      "20\n",
      "30\n",
      "40\n",
      "50\n",
      "60\n",
      "70\n",
      "80\n",
      "90\n",
      "100\n",
      "110\n",
      "120\n",
      "130\n",
      "140\n",
      "150\n",
      "160\n",
      "170\n",
      "180\n",
      "190\n",
      "200\n",
      "210\n",
      "220\n",
      "230\n",
      "240\n",
      "250\n",
      "260\n",
      "270\n",
      "280\n",
      "290\n",
      "300\n",
      "310\n",
      "320\n",
      "330\n",
      "340\n",
      "350\n",
      "360\n",
      "370\n",
      "380\n",
      "386\n"
     ]
    }
   ],
   "source": [
    "year = 2020\n",
    "all_df[f\"Tome 2_{year}_Etat_emprunts_garantis\"] = main_tome2(folder_path, year, files_dict, min_page = 9, max_page = 387)"
   ]
  },
  {
   "cell_type": "code",
   "execution_count": 20,
   "id": "0db51529-5700-413f-bd49-5d8a94cefa30",
   "metadata": {
    "collapsed": true,
    "jupyter": {
     "outputs_hidden": true
    },
    "scrolled": true
   },
   "outputs": [
    {
     "name": "stdout",
     "output_type": "stream",
     "text": [
      "0\n",
      "10\n",
      "20\n",
      "30\n",
      "40\n",
      "50\n",
      "60\n",
      "70\n",
      "80\n",
      "90\n",
      "100\n",
      "110\n",
      "120\n",
      "130\n",
      "140\n",
      "150\n",
      "160\n",
      "170\n",
      "180\n",
      "190\n",
      "200\n",
      "210\n",
      "220\n",
      "230\n",
      "240\n",
      "250\n",
      "260\n",
      "270\n",
      "280\n",
      "290\n",
      "300\n",
      "310\n",
      "320\n",
      "330\n",
      "340\n",
      "350\n",
      "360\n",
      "370\n",
      "380\n",
      "390\n",
      "400\n",
      "410\n",
      "416\n"
     ]
    }
   ],
   "source": [
    "year = 2019\n",
    "all_df[f\"Tome 2_{year}_Etat_emprunts_garantis\"] = main_tome2(folder_path, year, files_dict, min_page = 0, max_page = 417)"
   ]
  },
  {
   "cell_type": "markdown",
   "id": "542718fa-0f57-40b0-8ede-8ea22e288a35",
   "metadata": {},
   "source": [
    "### Concatenating"
   ]
  },
  {
   "cell_type": "code",
   "execution_count": 35,
   "id": "1feb7794-149b-45cc-a46f-6b607009d132",
   "metadata": {},
   "outputs": [],
   "source": [
    "final_df = pd.DataFrame()\n",
    "for _, df in all_df.items():\n",
    "    df.columns = df.columns.str.replace(\"’\",\"'\")\n",
    "    df.columns = df.columns.str.replace(\"''\",\"'\")\n",
    "    final_df = pd.concat([final_df, df])\n",
    "final_df.reset_index(drop=True, inplace=True)"
   ]
  },
  {
   "cell_type": "markdown",
   "id": "4c85cd35-f0a9-45e9-91a2-24c025d5fee5",
   "metadata": {},
   "source": [
    "### Excel extraction"
   ]
  },
  {
   "cell_type": "code",
   "execution_count": 37,
   "id": "59392bc3-1ba6-4e03-9ff0-3022c22d7ab5",
   "metadata": {},
   "outputs": [],
   "source": [
    "with pd.ExcelWriter(\"Tome 2_2019-2023.xlsx\", engine='xlsxwriter') as writer:\n",
    "    sheet_name = \"Data\"\n",
    "    final_df.to_excel(writer, sheet_name=sheet_name, index=False)"
   ]
  }
 ],
 "metadata": {
  "kernelspec": {
   "display_name": "Python 3 (ipykernel)",
   "language": "python",
   "name": "python3"
  },
  "language_info": {
   "codemirror_mode": {
    "name": "ipython",
    "version": 3
   },
   "file_extension": ".py",
   "mimetype": "text/x-python",
   "name": "python",
   "nbconvert_exporter": "python",
   "pygments_lexer": "ipython3",
   "version": "3.10.6"
  },
  "toc": {
   "base_numbering": 1,
   "nav_menu": {},
   "number_sections": true,
   "sideBar": true,
   "skip_h1_title": false,
   "title_cell": "Table of Contents",
   "title_sidebar": "Contents",
   "toc_cell": false,
   "toc_position": {},
   "toc_section_display": true,
   "toc_window_display": false
  }
 },
 "nbformat": 4,
 "nbformat_minor": 5
}
