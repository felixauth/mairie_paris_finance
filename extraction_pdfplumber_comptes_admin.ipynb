{
 "cells": [
  {
   "cell_type": "markdown",
   "id": "8032669f-2e7a-4be9-a11b-9f0d8449ed2e",
   "metadata": {
    "jp-MarkdownHeadingCollapsed": true
   },
   "source": [
    "# Import packages"
   ]
  },
  {
   "cell_type": "code",
   "execution_count": 1,
   "id": "770a1c51-9477-41f7-96aa-2e50b581bd9c",
   "metadata": {},
   "outputs": [],
   "source": [
    "import os\n",
    "import pandas as pd\n",
    "import numpy as np\n",
    "import re\n",
    "import warnings\n",
    "import pdfplumber\n",
    "warnings.filterwarnings('ignore')\n",
    "pd.set_option('display.float_format', '{:.2f}'.format)"
   ]
  },
  {
   "cell_type": "markdown",
   "id": "1fabe595-4255-4fae-b7db-823933f61d00",
   "metadata": {
    "jp-MarkdownHeadingCollapsed": true
   },
   "source": [
    "# Utils"
   ]
  },
  {
   "cell_type": "code",
   "execution_count": 113,
   "id": "d5d8fab3-4f01-4093-9c98-370c2cb9f055",
   "metadata": {},
   "outputs": [],
   "source": [
    "# Fonction pour obtenir les informations des colonnes\n",
    "def column_info(tables):\n",
    "    pattern = r\"(?<!\\d)\\d{2}-\\d{1,5}\\b\"\n",
    "    for index, list_info in enumerate(tables):\n",
    "        matches_list = []\n",
    "        for element in list_info:\n",
    "            if element:\n",
    "                matches = re.findall(pattern, element)\n",
    "                if len(matches):\n",
    "                    matches_list.append(element)\n",
    "        if not len(matches_list):\n",
    "            return index\n",
    "\n",
    "# Fonction pour générer les noms de colonnes\n",
    "def column_names_generate(tables, index_col_table):\n",
    "    col_name_list = []\n",
    "    zip_list = [list(element) for element in zip(*tables[0:index_col_table])]\n",
    "    for index, col in enumerate(zip_list): # col 0 is\n",
    "        # Repeat the subcolumn names\n",
    "        if not col[0]:\n",
    "            for index_e, e in enumerate(col):\n",
    "                following_values = all(pd.Series(col[index_e:]).isna()) \n",
    "                if (not e) and (not following_values):\n",
    "                    zip_list[index][index_e] = zip_list[index-1][index_e]\n",
    "        cleaned_list = ['' if not x else x.replace(\"\\n\", \" \") for x in col]\n",
    "        col_name_list.append(\" \".join(cleaned_list))\n",
    "    col_name_list = [col_name.lstrip().rstrip() if col_name else col_name for col_name in col_name_list]\n",
    "    return col_name_list\n",
    "\n",
    "def flag_depense_recette(df, current_ope):\n",
    "    df_copy = df.copy()\n",
    "    depense_row = df_copy[df_copy.iloc[:,0]==\"DEPENSES\"]\n",
    "    recette_row = df_copy[df_copy.iloc[:,0]==\"RECETTES\"]\n",
    "    title_col = \"type_opération\"\n",
    "    depense_txt = \"Dépense\"\n",
    "    recette_txt = \"Recette\"\n",
    "    if len(depense_row) and not len(recette_row):\n",
    "        df_copy[title_col] = depense_txt\n",
    "        current_ope = depense_txt\n",
    "        df_copy.drop(index=depense_row.index[0], inplace=True)\n",
    "    elif len(depense_row) and len(recette_row):\n",
    "        df_copy[title_col] = np.where(\n",
    "            (df_copy.index > depense_row.index[0]) & (df_copy.index < recette_row.index[0]),\n",
    "            depense_txt,\n",
    "            recette_txt\n",
    "        )\n",
    "        current_ope = recette_txt\n",
    "        df_copy.drop(index=[depense_row.index[0], recette_row.index[0]], inplace=True)\n",
    "    elif not len(depense_row) and len(recette_row):\n",
    "        df_copy[title_col] = np.where(\n",
    "            df_copy.index < recette_row.index[0],\n",
    "            depense_txt,\n",
    "            recette_txt\n",
    "        )\n",
    "        current_ope = recette_txt\n",
    "        df_copy.drop(index=recette_row.index[0], inplace=True)\n",
    "    else:\n",
    "        df_copy[title_col] = current_ope\n",
    "    return df_copy, current_ope\n",
    "            \n",
    "# Paramètres pour l'extraction avec pdfplumber\n",
    "params = {\n",
    "    \"vertical_strategy\": \"explicit\",\n",
    "    \"horizontal_strategy\": \"explicit\",\n",
    "    \"explicit_vertical_lines\": [],\n",
    "    \"explicit_horizontal_lines\": [],\n",
    "    \"snap_tolerance\": 100,\n",
    "    \"snap_x_tolerance\": 3,\n",
    "    \"snap_y_tolerance\": 3,\n",
    "    \"join_tolerance\": 3,\n",
    "    \"join_x_tolerance\": 2000,\n",
    "    \"join_y_tolerance\": 0,\n",
    "    \"edge_min_length\": 3,\n",
    "    \"min_words_vertical\": 3,\n",
    "    \"min_words_horizontal\": 3,\n",
    "    \"intersection_tolerance\": 15,\n",
    "    \"intersection_x_tolerance\": 3,\n",
    "    \"intersection_y_tolerance\": 3,\n",
    "    \"text_tolerance\": 1,\n",
    "    \"text_x_tolerance\": 3,\n",
    "    \"text_y_tolerance\": 3,\n",
    "}\n"
   ]
  },
  {
   "cell_type": "markdown",
   "id": "cad6a77a-6971-4d20-9c6a-ba5674f139f6",
   "metadata": {},
   "source": [
    "# Main"
   ]
  },
  {
   "cell_type": "markdown",
   "id": "2bb4b8ff-e47c-413e-b6b0-bf43b9a496e1",
   "metadata": {},
   "source": [
    "## Tome 1 - Annexes hors dettes"
   ]
  },
  {
   "cell_type": "markdown",
   "id": "7fa69a4d-b5c3-4011-b4ad-2ef660a97f70",
   "metadata": {
    "jp-MarkdownHeadingCollapsed": true
   },
   "source": [
    "### Main function"
   ]
  },
  {
   "cell_type": "code",
   "execution_count": 216,
   "id": "51a8ff53-d56d-452c-9f71-07b97289e58e",
   "metadata": {},
   "outputs": [],
   "source": [
    "def main_tome1_annexes_depenses_recettes(folder_path, year, files_dict, min_page, max_page):\n",
    "    \n",
    "    # Defining path\n",
    "    path_pdf = os.path.join(folder_path, files_dict[year])\n",
    "\n",
    "    # Opening PDF\n",
    "    with pdfplumber.open(path_pdf) as pdf:\n",
    "        # Initialisation current opération\n",
    "        current_ope = \"Dépense\"\n",
    "    \n",
    "        # Initialisation final df\n",
    "        final_df = dict()\n",
    "        \n",
    "        # Parcourir chaque page\n",
    "        for page_num in range(min_page, max_page):\n",
    "            if page_num in (min_page, max_page-1) or page_num%5 == 0:\n",
    "                print(page_num)\n",
    "                \n",
    "            # Lire le tableau\n",
    "            page = pdf.pages[page_num]\n",
    "            params[\"explicit_vertical_lines\"] = page.curves + page.edges\n",
    "            params[\"explicit_horizontal_lines\"] = page.curves + page.edges\n",
    "            tables = page.extract_table(table_settings=params)\n",
    "            if tables: #Des pages peuvent être vides\n",
    "                if tables[0][0] in (\"RECETTES\",\"DEPENSES\"):\n",
    "                    tables.pop(0)\n",
    "        \n",
    "                # Obtenir l'index des tables où les colonnes commencent\n",
    "                col_index = column_info(tables)\n",
    "        \n",
    "                # Générer les noms des colonnes\n",
    "                col_names = column_names_generate(tables, col_index)\n",
    "        \n",
    "                # Générer le DataFrame\n",
    "                df = pd.DataFrame(tables[col_index:], columns=col_names)\n",
    "        \n",
    "                # Flag depense recette\n",
    "                df, current_ope = flag_depense_recette(df, current_ope)\n",
    "    \n",
    "                if not all(df.iloc[:,1].isna()):\n",
    "                    # Conversion format numérique\n",
    "                    for col_index in range(2, df.shape[1]-1):\n",
    "                        df.iloc[:,col_index] = df.iloc[:,col_index].str.replace(\" \",\"\").str.replace(\",\",\".\").str.replace(\"\\n\",\"\").astype(float)\n",
    "                        \n",
    "                    # Ajout du numéro de page\n",
    "                    df.insert(0, \"Numéro_page\", page_num + 1)\n",
    "                    df.insert(0, \"Fichier_source\", files_dict[year])\n",
    "                    df.insert(0, \"Année\", year)\n",
    "            \n",
    "                    # Concatenating\n",
    "                    if page_num == min_page:\n",
    "                        final_df[page_num] = df\n",
    "                    else:\n",
    "                        precedent_key = list(final_df)[-1]\n",
    "                        if df.shape[1]==final_df[precedent_key].shape[1] and all(df.columns == final_df[precedent_key].columns):\n",
    "                            final_df[page_num] = pd.concat([final_df[precedent_key], df]).reset_index(drop=True)\n",
    "                            final_df.pop(precedent_key)\n",
    "                        else:\n",
    "                            final_df[page_num] = df\n",
    "    return final_df"
   ]
  },
  {
   "cell_type": "code",
   "execution_count": null,
   "id": "3daac443-0075-46e5-928b-2f0147a0b00c",
   "metadata": {},
   "outputs": [],
   "source": [
    "# Définir le chemin du fichier PDF\n",
    "folder_path = os.path.join(\"sources\", \"Tome_1\")\n",
    "\n",
    "# Creation dictionnaire fichiers\n",
    "files_dict = {\n",
    "    2023: \"CA 2023 - Budget général Compte sur chiffres et annexes Tome 1.pdf\",\n",
    "    2022: \"02 - CA 2022 Budget général - Compte sur chiffres et annexes - Tome 1.pdf\",\n",
    "    2021: \"CA 2021 - Tome 1.pdf\",\n",
    "    2020: \"04 Document budgétaire (Tome 1).pdf\",\n",
    "    2019: \"04 - Document budgétaire (Tome 1.1).pdf\"\n",
    "}"
   ]
  },
  {
   "cell_type": "markdown",
   "id": "1c606fed-f6cc-409f-b047-668368e47675",
   "metadata": {},
   "source": [
    "### Extraction"
   ]
  },
  {
   "cell_type": "code",
   "execution_count": 214,
   "id": "0b2e2b06-1486-4d57-aaa1-9c6e50e5151d",
   "metadata": {},
   "outputs": [
    {
     "name": "stdout",
     "output_type": "stream",
     "text": [
      "159\n",
      "160\n",
      "165\n",
      "170\n",
      "175\n",
      "180\n",
      "185\n",
      "190\n",
      "195\n",
      "200\n",
      "205\n",
      "210\n",
      "215\n",
      "220\n",
      "225\n",
      "230\n",
      "235\n",
      "240\n",
      "245\n"
     ]
    }
   ],
   "source": [
    "year = 2023\n",
    "tome1_2023 = main_tome1_annexes_depenses_recettes(folder_path, year, files_dict, min_page = 159, max_page = 247)"
   ]
  },
  {
   "cell_type": "code",
   "execution_count": 217,
   "id": "112e193c-6347-467c-a8d0-0f4eb51e652a",
   "metadata": {},
   "outputs": [
    {
     "name": "stdout",
     "output_type": "stream",
     "text": [
      "110\n",
      "115\n",
      "120\n",
      "125\n",
      "130\n",
      "135\n",
      "140\n",
      "145\n",
      "150\n",
      "154\n"
     ]
    }
   ],
   "source": [
    "year = 2022\n",
    "tome1_2022 = main_tome1_annexes_depenses_recettes(folder_path, year, files_dict, min_page = 110, max_page = 155)"
   ]
  }
 ],
 "metadata": {
  "kernelspec": {
   "display_name": "Python 3 (ipykernel)",
   "language": "python",
   "name": "python3"
  },
  "language_info": {
   "codemirror_mode": {
    "name": "ipython",
    "version": 3
   },
   "file_extension": ".py",
   "mimetype": "text/x-python",
   "name": "python",
   "nbconvert_exporter": "python",
   "pygments_lexer": "ipython3",
   "version": "3.10.6"
  }
 },
 "nbformat": 4,
 "nbformat_minor": 5
}
